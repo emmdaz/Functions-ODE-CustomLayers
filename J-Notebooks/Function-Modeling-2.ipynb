{
 "cells": [
  {
   "cell_type": "code",
   "execution_count": 1,
   "metadata": {},
   "outputs": [],
   "source": [
    "import tensorflow as tf\n",
    "from tensorflow import keras\n",
    "from tensorflow.keras.layers import Layer\n",
    "from tensorflow.keras.optimizers import SGD, Adam\n",
    "\n",
    "import numpy as np\n",
    "import matplotlib.pyplot as plt \n",
    "import math as mt"
   ]
  },
  {
   "cell_type": "code",
   "execution_count": 2,
   "metadata": {},
   "outputs": [],
   "source": [
    "loss_tracker = keras.metrics.Mean(name=\"loss\")\n",
    "\n",
    "class Function(keras.Model):\n",
    "    def train_step(self, data):\n",
    "        batch_size = 10\n",
    "        x = tf.random.uniform((batch_size,), minval=-1, maxval=1) \n",
    "        # Se crea un tensor que va desde -1 hasta 1 de forma uniforme\n",
    "        eq = 1 + 2*tf.square(x) + 4*tf.pow(x, 3)\n",
    "\n",
    "\n",
    "        with tf.GradientTape() as tape:\n",
    "            y_pred = self(x, training=True)\n",
    "            loss = keras.losses.mean_squared_error(y_pred,eq)\n",
    "\n",
    "        grads = tape.gradient(loss, self.trainable_weights)\n",
    "        self.optimizer.apply_gradients(zip(grads, self.trainable_weights))\n",
    "        loss_tracker.update_state(loss)\n",
    "\n",
    "        return {\"loss\": loss_tracker.result()}"
   ]
  },
  {
   "cell_type": "code",
   "execution_count": 3,
   "metadata": {},
   "outputs": [],
   "source": [
    "class PolyTransform(tf.keras.layers.Layer):\n",
    "    def __init__(self, num_outputs):\n",
    "        super(PolyTransform,self).__init__()\n",
    "        \n",
    "        self.num_outputs = num_outputs\n",
    "        self.kernel = self.add_weight(\"kernel\",\n",
    "                                shape=[self.num_outputs]) # Pesos que harán de coeficientes\n",
    "\n",
    "    def call(self, inputs):\n",
    "        inputs = tf.convert_to_tensor(inputs)\n",
    "        if (inputs.shape == ()):\n",
    "            inputs=(inputs,)\n",
    "        elif (len(inputs.shape)==1):\n",
    "            inputs=tf.expand_dims(inputs, axis=1)\n",
    "            \n",
    "        modes = tf.concat([tf.ones_like(inputs), inputs, inputs**2, inputs**3], axis=1)\n",
    "        return tf.tensordot(modes,self.kernel,1) # Producto punto entre a_i * x^i "
   ]
  },
  {
   "cell_type": "code",
   "execution_count": 4,
   "metadata": {
    "scrolled": false
   },
   "outputs": [
    {
     "name": "stdout",
     "output_type": "stream",
     "text": [
      "Epoch 1/50\n",
      "4/4 [==============================] - 0s 953us/step - loss: 5.6756\n",
      "Epoch 2/50\n",
      "4/4 [==============================] - 0s 977us/step - loss: 4.4767\n",
      "Epoch 3/50\n",
      "4/4 [==============================] - 0s 958us/step - loss: 3.5081\n",
      "Epoch 4/50\n",
      "4/4 [==============================] - 0s 1ms/step - loss: 2.7360\n",
      "Epoch 5/50\n",
      "4/4 [==============================] - 0s 956us/step - loss: 2.2758\n",
      "Epoch 6/50\n",
      "4/4 [==============================] - 0s 1ms/step - loss: 1.9628\n",
      "Epoch 7/50\n",
      "4/4 [==============================] - 0s 1ms/step - loss: 1.7223\n",
      "Epoch 8/50\n",
      "4/4 [==============================] - 0s 922us/step - loss: 1.5609\n",
      "Epoch 9/50\n",
      "4/4 [==============================] - 0s 895us/step - loss: 1.4432\n",
      "Epoch 10/50\n",
      "4/4 [==============================] - 0s 1ms/step - loss: 1.3368\n",
      "Epoch 11/50\n",
      "4/4 [==============================] - 0s 1ms/step - loss: 1.2373\n",
      "Epoch 12/50\n",
      "4/4 [==============================] - 0s 906us/step - loss: 1.1511\n",
      "Epoch 13/50\n",
      "4/4 [==============================] - 0s 932us/step - loss: 1.0740\n",
      "Epoch 14/50\n",
      "4/4 [==============================] - 0s 1ms/step - loss: 1.0093\n",
      "Epoch 15/50\n",
      "4/4 [==============================] - 0s 862us/step - loss: 0.9540\n",
      "Epoch 16/50\n",
      "4/4 [==============================] - 0s 865us/step - loss: 0.9093\n",
      "Epoch 17/50\n",
      "4/4 [==============================] - 0s 1ms/step - loss: 0.8663\n",
      "Epoch 18/50\n",
      "4/4 [==============================] - 0s 928us/step - loss: 0.8260\n",
      "Epoch 19/50\n",
      "4/4 [==============================] - 0s 1ms/step - loss: 0.7904\n",
      "Epoch 20/50\n",
      "4/4 [==============================] - 0s 935us/step - loss: 0.7566\n",
      "Epoch 21/50\n",
      "4/4 [==============================] - 0s 1ms/step - loss: 0.7244\n",
      "Epoch 22/50\n",
      "4/4 [==============================] - 0s 818us/step - loss: 0.6952\n",
      "Epoch 23/50\n",
      "4/4 [==============================] - 0s 969us/step - loss: 0.6688\n",
      "Epoch 24/50\n",
      "4/4 [==============================] - 0s 1ms/step - loss: 0.6436\n",
      "Epoch 25/50\n",
      "4/4 [==============================] - 0s 981us/step - loss: 0.6203\n",
      "Epoch 26/50\n",
      "4/4 [==============================] - 0s 1ms/step - loss: 0.5988\n",
      "Epoch 27/50\n",
      "4/4 [==============================] - 0s 1ms/step - loss: 0.5792\n",
      "Epoch 28/50\n",
      "4/4 [==============================] - 0s 2ms/step - loss: 0.5605\n",
      "Epoch 29/50\n",
      "4/4 [==============================] - 0s 1ms/step - loss: 0.5430\n",
      "Epoch 30/50\n",
      "4/4 [==============================] - 0s 910us/step - loss: 0.5265\n",
      "Epoch 31/50\n",
      "4/4 [==============================] - 0s 959us/step - loss: 0.5106\n",
      "Epoch 32/50\n",
      "4/4 [==============================] - 0s 1ms/step - loss: 0.4956\n",
      "Epoch 33/50\n",
      "4/4 [==============================] - 0s 1ms/step - loss: 0.4818\n",
      "Epoch 34/50\n",
      "4/4 [==============================] - 0s 912us/step - loss: 0.4688\n",
      "Epoch 35/50\n",
      "4/4 [==============================] - 0s 999us/step - loss: 0.4561\n",
      "Epoch 36/50\n",
      "4/4 [==============================] - 0s 1ms/step - loss: 0.4441\n",
      "Epoch 37/50\n",
      "4/4 [==============================] - 0s 920us/step - loss: 0.4327\n",
      "Epoch 38/50\n",
      "4/4 [==============================] - 0s 1ms/step - loss: 0.4218\n",
      "Epoch 39/50\n",
      "4/4 [==============================] - 0s 1ms/step - loss: 0.4114\n",
      "Epoch 40/50\n",
      "4/4 [==============================] - 0s 938us/step - loss: 0.4015\n",
      "Epoch 41/50\n",
      "4/4 [==============================] - 0s 959us/step - loss: 0.3920\n",
      "Epoch 42/50\n",
      "4/4 [==============================] - 0s 1ms/step - loss: 0.3830\n",
      "Epoch 43/50\n",
      "4/4 [==============================] - 0s 954us/step - loss: 0.3743\n",
      "Epoch 44/50\n",
      "4/4 [==============================] - 0s 948us/step - loss: 0.3660\n",
      "Epoch 45/50\n",
      "4/4 [==============================] - 0s 1ms/step - loss: 0.3580\n",
      "Epoch 46/50\n",
      "4/4 [==============================] - 0s 978us/step - loss: 0.3504\n",
      "Epoch 47/50\n",
      "4/4 [==============================] - 0s 1ms/step - loss: 0.3431\n",
      "Epoch 48/50\n",
      "4/4 [==============================] - 0s 1ms/step - loss: 0.3360\n",
      "Epoch 49/50\n",
      "4/4 [==============================] - 0s 842us/step - loss: 0.3292\n",
      "Epoch 50/50\n",
      "4/4 [==============================] - 0s 1ms/step - loss: 0.3227\n"
     ]
    }
   ],
   "source": [
    "inputs = keras.Input(shape=(1,))\n",
    "x = PolyTransform(4)(inputs)\n",
    "\n",
    "model = Function(inputs=inputs,outputs=x)\n",
    "model.compile(optimizer=Adam(learning_rate=0.1), metrics=['loss'])\n",
    "\n",
    "x = tf.linspace(-1,1,100)\n",
    "history = model.fit(x,epochs=50,verbose=1)"
   ]
  },
  {
   "cell_type": "code",
   "execution_count": 7,
   "metadata": {},
   "outputs": [
    {
     "data": {
      "image/png": "[encoded data removed]",
      "text/plain": [
       "<Figure size 640x480 with 1 Axes>"
      ]
     },
     "metadata": {},
     "output_type": "display_data"
    }
   ],
   "source": [
    "plt.plot(x_testv, a, label=\"Modelado\")\n",
    "plt.plot(x_testv, 1 + 2*x**2 + 4*x**3, label = \"Función\", color = \"orange\")\n",
    "plt.legend()\n",
    "plt.grid()\n",
    "plt.show()"
   ]
  },
  {
   "cell_type": "code",
   "execution_count": null,
   "metadata": {},
   "outputs": [],
   "source": []
  }
 ],
 "metadata": {
  "kernelspec": {
   "display_name": "Python 3",
   "language": "python",
   "name": "python3"
  },
  "language_info": {
   "codemirror_mode": {
    "name": "ipython",
    "version": 3
   },
   "file_extension": ".py",
   "mimetype": "text/x-python",
   "name": "python",
   "nbconvert_exporter": "python",
   "pygments_lexer": "ipython3",
   "version": "3.8.10"
  }
 },
 "nbformat": 4,
 "nbformat_minor": 2
}
