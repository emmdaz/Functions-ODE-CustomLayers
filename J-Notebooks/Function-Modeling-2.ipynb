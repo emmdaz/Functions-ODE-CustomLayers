{
 "cells": [
  {
   "cell_type": "code",
   "execution_count": 1,
   "metadata": {},
   "outputs": [],
   "source": [
    "import tensorflow as tf\n",
    "from tensorflow import keras\n",
    "from tensorflow.keras.layers import Layer\n",
    "from tensorflow.keras.optimizers import SGD, Adam\n",
    "\n",
    "import numpy as np\n",
    "import matplotlib.pyplot as plt \n",
    "import math as mt"
   ]
  },
  {
   "cell_type": "code",
   "execution_count": 2,
   "metadata": {},
   "outputs": [],
   "source": [
    "loss_tracker = keras.metrics.Mean(name=\"loss\")\n",
    "\n",
    "class Function(keras.Model):\n",
    "    def train_step(self, data):\n",
    "        batch_size = 10\n",
    "        x = tf.random.uniform((batch_size,), minval=-1, maxval=1)\n",
    "        eq = 1 + 2*x + 4*x**3\n",
    "\n",
    "        with tf.GradientTape() as tape:\n",
    "            y_pred = self(x, training=True)\n",
    "            loss = keras.losses.mean_squared_error(y_pred,eq)\n",
    "\n",
    "        grads = tape.gradient(loss, self.trainable_weights)\n",
    "        self.optimizer.apply_gradients(zip(grads, self.trainable_weights))\n",
    "        loss_tracker.update_state(loss)\n",
    "\n",
    "        return {\"loss\": loss_tracker.result()}"
   ]
  },
  {
   "cell_type": "code",
   "execution_count": 3,
   "metadata": {},
   "outputs": [],
   "source": [
    "class SinTransform(tf.keras.layers.Layer):\n",
    "    def __init__(self, num_outputs):\n",
    "        super(SinTransform,self).__init__()\n",
    "        self.num_outputs = num_outputs\n",
    "\n",
    "        self.freq = tf.range(1., self.num_outputs + 1)\n",
    "\n",
    "        self.kernel = self.add_weight(\"kernel\",\n",
    "                                shape=[self.num_outputs])\n",
    "\n",
    "    def call(self, inputs):\n",
    "        inputs = tf.convert_to_tensor(inputs)\n",
    "        if (inputs.shape == ()):\n",
    "            inputs=(inputs,)\n",
    "        elif (len(inputs.shape)==1):\n",
    "            inputs=tf.expand_dims(inputs, axis=1)\n",
    "        batch = tf.shape(inputs)[0]\n",
    "        self.freq_b = tf.ones([batch,1])*self.freq\n",
    "        args = self.freq_b * inputs\n",
    "        modes = tf.math.sin(args)\n",
    "        return tf.tensordot(modes,self.kernel,1)"
   ]
  },
  {
   "cell_type": "code",
   "execution_count": 4,
   "metadata": {
    "scrolled": false
   },
   "outputs": [
    {
     "name": "stdout",
     "output_type": "stream",
     "text": [
      "Epoch 1/50\n",
      "4/4 [==============================] - 0s 1ms/step - loss: 4.7068\n",
      "Epoch 2/50\n",
      "4/4 [==============================] - 0s 1ms/step - loss: 3.1785\n",
      "Epoch 3/50\n",
      "4/4 [==============================] - 0s 921us/step - loss: 2.5721\n",
      "Epoch 4/50\n",
      "4/4 [==============================] - 0s 836us/step - loss: 2.2169\n",
      "Epoch 5/50\n",
      "4/4 [==============================] - 0s 785us/step - loss: 1.9969\n",
      "Epoch 6/50\n",
      "4/4 [==============================] - 0s 927us/step - loss: 1.8247\n",
      "Epoch 7/50\n",
      "4/4 [==============================] - 0s 915us/step - loss: 1.7257\n",
      "Epoch 8/50\n",
      "4/4 [==============================] - 0s 832us/step - loss: 1.6731\n",
      "Epoch 9/50\n",
      "4/4 [==============================] - 0s 802us/step - loss: 1.6053\n",
      "Epoch 10/50\n",
      "4/4 [==============================] - 0s 1ms/step - loss: 1.5473\n",
      "Epoch 11/50\n",
      "4/4 [==============================] - 0s 903us/step - loss: 1.4966\n",
      "Epoch 12/50\n",
      "4/4 [==============================] - 0s 818us/step - loss: 1.4622\n",
      "Epoch 13/50\n",
      "4/4 [==============================] - 0s 884us/step - loss: 1.4445\n",
      "Epoch 14/50\n",
      "4/4 [==============================] - 0s 1ms/step - loss: 1.4196\n",
      "Epoch 15/50\n",
      "4/4 [==============================] - 0s 852us/step - loss: 1.3895\n",
      "Epoch 16/50\n",
      "4/4 [==============================] - 0s 814us/step - loss: 1.3605\n",
      "Epoch 17/50\n",
      "4/4 [==============================] - 0s 993us/step - loss: 1.3468\n",
      "Epoch 18/50\n",
      "4/4 [==============================] - 0s 1ms/step - loss: 1.3318\n",
      "Epoch 19/50\n",
      "4/4 [==============================] - 0s 878us/step - loss: 1.3209\n",
      "Epoch 20/50\n",
      "4/4 [==============================] - 0s 869us/step - loss: 1.3074\n",
      "Epoch 21/50\n",
      "4/4 [==============================] - 0s 1ms/step - loss: 1.2965\n",
      "Epoch 22/50\n",
      "4/4 [==============================] - 0s 963us/step - loss: 1.2861\n",
      "Epoch 23/50\n",
      "4/4 [==============================] - 0s 926us/step - loss: 1.2762\n",
      "Epoch 24/50\n",
      "4/4 [==============================] - 0s 993us/step - loss: 1.2718\n",
      "Epoch 25/50\n",
      "4/4 [==============================] - 0s 1ms/step - loss: 1.2692\n",
      "Epoch 26/50\n",
      "4/4 [==============================] - 0s 900us/step - loss: 1.2639\n",
      "Epoch 27/50\n",
      "4/4 [==============================] - 0s 849us/step - loss: 1.2635\n",
      "Epoch 28/50\n",
      "4/4 [==============================] - 0s 1ms/step - loss: 1.2555\n",
      "Epoch 29/50\n",
      "4/4 [==============================] - 0s 903us/step - loss: 1.2496\n",
      "Epoch 30/50\n",
      "4/4 [==============================] - 0s 889us/step - loss: 1.2411\n",
      "Epoch 31/50\n",
      "4/4 [==============================] - 0s 905us/step - loss: 1.2354\n",
      "Epoch 32/50\n",
      "4/4 [==============================] - 0s 1ms/step - loss: 1.2297\n",
      "Epoch 33/50\n",
      "4/4 [==============================] - 0s 888us/step - loss: 1.2265\n",
      "Epoch 34/50\n",
      "4/4 [==============================] - 0s 837us/step - loss: 1.2225\n",
      "Epoch 35/50\n",
      "4/4 [==============================] - 0s 1ms/step - loss: 1.2175\n",
      "Epoch 36/50\n",
      "4/4 [==============================] - 0s 999us/step - loss: 1.2152\n",
      "Epoch 37/50\n",
      "4/4 [==============================] - 0s 845us/step - loss: 1.2083\n",
      "Epoch 38/50\n",
      "4/4 [==============================] - 0s 814us/step - loss: 1.2036\n",
      "Epoch 39/50\n",
      "4/4 [==============================] - 0s 1ms/step - loss: 1.2016\n",
      "Epoch 40/50\n",
      "4/4 [==============================] - 0s 947us/step - loss: 1.2008\n",
      "Epoch 41/50\n",
      "4/4 [==============================] - 0s 1ms/step - loss: 1.2002\n",
      "Epoch 42/50\n",
      "4/4 [==============================] - 0s 843us/step - loss: 1.1976\n",
      "Epoch 43/50\n",
      "4/4 [==============================] - 0s 1ms/step - loss: 1.1923\n",
      "Epoch 44/50\n",
      "4/4 [==============================] - 0s 856us/step - loss: 1.1849\n",
      "Epoch 45/50\n",
      "4/4 [==============================] - 0s 870us/step - loss: 1.1837\n",
      "Epoch 46/50\n",
      "4/4 [==============================] - 0s 1ms/step - loss: 1.1817\n",
      "Epoch 47/50\n",
      "4/4 [==============================] - 0s 1ms/step - loss: 1.1787\n",
      "Epoch 48/50\n",
      "4/4 [==============================] - 0s 815us/step - loss: 1.1770\n",
      "Epoch 49/50\n",
      "4/4 [==============================] - 0s 968us/step - loss: 1.1765\n",
      "Epoch 50/50\n",
      "4/4 [==============================] - 0s 1ms/step - loss: 1.1736\n"
     ]
    }
   ],
   "source": [
    "inputs = keras.Input(shape=(1,))\n",
    "x = SinTransform(10)(inputs)\n",
    "model = Function(inputs=inputs,outputs=x)\n",
    "\n",
    "model.compile(optimizer=SGD(learning_rate=0.1), metrics=['loss'])\n",
    "\n",
    "x=tf.linspace(-1,1,100)\n",
    "history = model.fit(x,epochs=50,verbose=1)"
   ]
  },
  {
   "cell_type": "code",
   "execution_count": 5,
   "metadata": {},
   "outputs": [
    {
     "name": "stdout",
     "output_type": "stream",
     "text": [
      "4/4 [==============================] - 0s 1ms/step\n"
     ]
    },
    {
     "data": {
      "image/png": "[encoded data removed]",
      "text/plain": [
       "<Figure size 640x480 with 1 Axes>"
      ]
     },
     "metadata": {},
     "output_type": "display_data"
    }
   ],
   "source": [
    "x_testv = tf.linspace(-1,1,100)\n",
    "a=model.predict(x_testv)\n",
    "\n",
    "plt.plot(x_testv,a, label = \"Predicción\")\n",
    "plt.plot(x_testv, 1 + 2*x + 4*x**3, label = \"Función\", color = \"orange\")\n",
    "plt.legend()\n",
    "plt.grid()\n",
    "plt.show()"
   ]
  }
 ],
 "metadata": {
  "kernelspec": {
   "display_name": "Python 3",
   "language": "python",
   "name": "python3"
  },
  "language_info": {
   "codemirror_mode": {
    "name": "ipython",
    "version": 3
   },
   "file_extension": ".py",
   "mimetype": "text/x-python",
   "name": "python",
   "nbconvert_exporter": "python",
   "pygments_lexer": "ipython3",
   "version": "3.8.10"
  }
 },
 "nbformat": 4,
 "nbformat_minor": 2
}
