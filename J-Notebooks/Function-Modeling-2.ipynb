{
 "cells": [
  {
   "cell_type": "code",
   "execution_count": 1,
   "metadata": {},
   "outputs": [],
   "source": [
    "import tensorflow as tf\n",
    "from tensorflow import keras\n",
    "from tensorflow.keras.layers import Layer\n",
    "from tensorflow.keras.optimizers import SGD, Adam\n",
    "import numpy as np\n",
    "import matplotlib.pyplot as plt \n",
    "import math as mt"
   ]
  },
  {
   "cell_type": "code",
   "execution_count": 2,
   "metadata": {},
   "outputs": [],
   "source": [
    "loss_tracker = keras.metrics.Mean(name=\"loss\")\n",
    "\n",
    "class Function(keras.Model):\n",
    "    def train_step(self, data):\n",
    "        batch_size = 5\n",
    "        x = tf.random.uniform((batch_size,), minval=-1, maxval=1)\n",
    "        eq = 1 + 2*x + 4*x**3\n",
    "\n",
    "        with tf.GradientTape() as tape:\n",
    "            y_pred = self(x, training=True)\n",
    "            loss = keras.losses.mean_squared_error(y_pred,eq)\n",
    "\n",
    "        grads = tape.gradient(loss, self.trainable_weights)\n",
    "        self.optimizer.apply_gradients(zip(grads, self.trainable_weights))\n",
    "        loss_tracker.update_state(loss)\n",
    "\n",
    "        return {\"loss\": loss_tracker.result()}"
   ]
  },
  {
   "cell_type": "code",
   "execution_count": 3,
   "metadata": {},
   "outputs": [],
   "source": [
    "class SinTransform(tf.keras.layers.Layer):\n",
    "    def __init__(self, num_outputs):\n",
    "        super(SinTransform,self).__init__()\n",
    "        self.num_outputs = num_outputs\n",
    "\n",
    "        self.freq = tf.range(1., self.num_outputs + 1)\n",
    "\n",
    "        self.kernel = self.add_weight(\"kernel\",\n",
    "                                shape=[self.num_outputs])\n",
    "\n",
    "    def call(self, inputs):\n",
    "        inputs = tf.convert_to_tensor(inputs)\n",
    "        if (inputs.shape == ()):\n",
    "            inputs=(inputs,)\n",
    "        elif (len(inputs.shape)==1):\n",
    "            inputs=tf.expand_dims(inputs, axis=1)\n",
    "        batch = tf.shape(inputs)[0]\n",
    "        self.freq_b = tf.ones([batch,1])*self.freq\n",
    "        args = self.freq_b * inputs\n",
    "        modes = tf.math.sin(args)\n",
    "        return tf.tensordot(modes,self.kernel,1)"
   ]
  },
  {
   "cell_type": "code",
   "execution_count": 4,
   "metadata": {
    "scrolled": false
   },
   "outputs": [
    {
     "name": "stdout",
     "output_type": "stream",
     "text": [
      "Epoch 1/50\n",
      "4/4 [==============================] - 0s 1ms/step - loss: 5.6081\n",
      "Epoch 2/50\n",
      "4/4 [==============================] - 0s 985us/step - loss: 3.5187\n",
      "Epoch 3/50\n",
      "4/4 [==============================] - 0s 1ms/step - loss: 2.9563\n",
      "Epoch 4/50\n",
      "4/4 [==============================] - 0s 917us/step - loss: 2.5518\n",
      "Epoch 5/50\n",
      "4/4 [==============================] - 0s 942us/step - loss: 2.2804\n",
      "Epoch 6/50\n",
      "4/4 [==============================] - 0s 923us/step - loss: 2.0971\n",
      "Epoch 7/50\n",
      "4/4 [==============================] - 0s 953us/step - loss: 1.9753\n",
      "Epoch 8/50\n",
      "4/4 [==============================] - 0s 851us/step - loss: 1.8699\n",
      "Epoch 9/50\n",
      "4/4 [==============================] - 0s 885us/step - loss: 1.8202\n",
      "Epoch 10/50\n",
      "4/4 [==============================] - 0s 1ms/step - loss: 1.7365\n",
      "Epoch 11/50\n",
      "4/4 [==============================] - 0s 895us/step - loss: 1.6783\n",
      "Epoch 12/50\n",
      "4/4 [==============================] - 0s 917us/step - loss: 1.6412\n",
      "Epoch 13/50\n",
      "4/4 [==============================] - 0s 999us/step - loss: 1.5928\n",
      "Epoch 14/50\n",
      "4/4 [==============================] - 0s 916us/step - loss: 1.5745\n",
      "Epoch 15/50\n",
      "4/4 [==============================] - 0s 863us/step - loss: 1.5560\n",
      "Epoch 16/50\n",
      "4/4 [==============================] - 0s 856us/step - loss: 1.5436\n",
      "Epoch 17/50\n",
      "4/4 [==============================] - 0s 1ms/step - loss: 1.5283\n",
      "Epoch 18/50\n",
      "4/4 [==============================] - 0s 905us/step - loss: 1.5090\n",
      "Epoch 19/50\n",
      "4/4 [==============================] - 0s 864us/step - loss: 1.4935\n",
      "Epoch 20/50\n",
      "4/4 [==============================] - 0s 912us/step - loss: 1.4744\n",
      "Epoch 21/50\n",
      "4/4 [==============================] - 0s 983us/step - loss: 1.4505\n",
      "Epoch 22/50\n",
      "4/4 [==============================] - 0s 852us/step - loss: 1.4396\n",
      "Epoch 23/50\n",
      "4/4 [==============================] - 0s 820us/step - loss: 1.4271\n",
      "Epoch 24/50\n",
      "4/4 [==============================] - 0s 1ms/step - loss: 1.4099\n",
      "Epoch 25/50\n",
      "4/4 [==============================] - 0s 848us/step - loss: 1.4021\n",
      "Epoch 26/50\n",
      "4/4 [==============================] - 0s 803us/step - loss: 1.3863\n",
      "Epoch 27/50\n",
      "4/4 [==============================] - 0s 929us/step - loss: 1.3760\n",
      "Epoch 28/50\n",
      "4/4 [==============================] - 0s 1ms/step - loss: 1.3735\n",
      "Epoch 29/50\n",
      "4/4 [==============================] - 0s 815us/step - loss: 1.3636\n",
      "Epoch 30/50\n",
      "4/4 [==============================] - 0s 841us/step - loss: 1.3525\n",
      "Epoch 31/50\n",
      "4/4 [==============================] - 0s 894us/step - loss: 1.3513\n",
      "Epoch 32/50\n",
      "4/4 [==============================] - 0s 1ms/step - loss: 1.3555\n",
      "Epoch 33/50\n",
      "4/4 [==============================] - 0s 829us/step - loss: 1.3542\n",
      "Epoch 34/50\n",
      "4/4 [==============================] - 0s 863us/step - loss: 1.3470\n",
      "Epoch 35/50\n",
      "4/4 [==============================] - 0s 1ms/step - loss: 1.3386\n",
      "Epoch 36/50\n",
      "4/4 [==============================] - 0s 955us/step - loss: 1.3324\n",
      "Epoch 37/50\n",
      "4/4 [==============================] - 0s 862us/step - loss: 1.3264\n",
      "Epoch 38/50\n",
      "4/4 [==============================] - 0s 854us/step - loss: 1.3197\n",
      "Epoch 39/50\n",
      "4/4 [==============================] - 0s 1ms/step - loss: 1.3153\n",
      "Epoch 40/50\n",
      "4/4 [==============================] - 0s 870us/step - loss: 1.3084\n",
      "Epoch 41/50\n",
      "4/4 [==============================] - 0s 959us/step - loss: 1.3047\n",
      "Epoch 42/50\n",
      "4/4 [==============================] - 0s 1ms/step - loss: 1.3024\n",
      "Epoch 43/50\n",
      "4/4 [==============================] - 0s 872us/step - loss: 1.2997\n",
      "Epoch 44/50\n",
      "4/4 [==============================] - 0s 849us/step - loss: 1.2949\n",
      "Epoch 45/50\n",
      "4/4 [==============================] - 0s 824us/step - loss: 1.2896\n",
      "Epoch 46/50\n",
      "4/4 [==============================] - 0s 1ms/step - loss: 1.2843\n",
      "Epoch 47/50\n",
      "4/4 [==============================] - 0s 833us/step - loss: 1.2789\n",
      "Epoch 48/50\n",
      "4/4 [==============================] - 0s 861us/step - loss: 1.2787\n",
      "Epoch 49/50\n",
      "4/4 [==============================] - 0s 977us/step - loss: 1.2755\n",
      "Epoch 50/50\n",
      "4/4 [==============================] - 0s 974us/step - loss: 1.2735\n"
     ]
    }
   ],
   "source": [
    "inputs = keras.Input(shape=(1,))\n",
    "x = SinTransform(10)(inputs)\n",
    "model = Function(inputs=inputs,outputs=x)\n",
    "\n",
    "model.compile(optimizer=SGD(learning_rate=0.1), metrics=['loss'])\n",
    "\n",
    "x=tf.linspace(-1,1,100)\n",
    "history = model.fit(x,epochs=50,verbose=1)"
   ]
  },
  {
   "cell_type": "code",
   "execution_count": 5,
   "metadata": {},
   "outputs": [
    {
     "name": "stdout",
     "output_type": "stream",
     "text": [
      "4/4 [==============================] - 0s 946us/step\n"
     ]
    },
    {
     "data": {
      "image/png": "[encoded data removed]",
      "text/plain": [
       "<Figure size 640x480 with 1 Axes>"
      ]
     },
     "metadata": {},
     "output_type": "display_data"
    }
   ],
   "source": [
    "x_testv = tf.linspace(-1,1,100)\n",
    "a=model.predict(x_testv)\n",
    "\n",
    "plt.plot(x_testv,a, label = \"Predicción\")\n",
    "plt.plot(x_testv, 1 + 2*x + 4*x**3, label = \"Función\", color = \"orange\")\n",
    "plt.legend()\n",
    "plt.grid()\n",
    "plt.show()"
   ]
  }
 ],
 "metadata": {
  "kernelspec": {
   "display_name": "Python 3",
   "language": "python",
   "name": "python3"
  },
  "language_info": {
   "codemirror_mode": {
    "name": "ipython",
    "version": 3
   },
   "file_extension": ".py",
   "mimetype": "text/x-python",
   "name": "python",
   "nbconvert_exporter": "python",
   "pygments_lexer": "ipython3",
   "version": "3.8.10"
  }
 },
 "nbformat": 4,
 "nbformat_minor": 2
}
