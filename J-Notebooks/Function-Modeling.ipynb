{
 "cells": [
  {
   "cell_type": "code",
   "execution_count": 1,
   "metadata": {},
   "outputs": [],
   "source": [
    "import tensorflow as tf\n",
    "from tensorflow import keras\n",
    "from tensorflow.keras.layers import Layer\n",
    "from tensorflow.keras.optimizers import SGD, Adam\n",
    "\n",
    "import numpy as np\n",
    "import matplotlib.pyplot as plt \n",
    "import math as mt"
   ]
  },
  {
   "cell_type": "code",
   "execution_count": 2,
   "metadata": {},
   "outputs": [],
   "source": [
    "loss_tracker = keras.metrics.Mean(name=\"loss\")\n",
    "\n",
    "class Function(keras.Model):\n",
    "    def train_step(self, data):\n",
    "        batch_size = 10\n",
    "        x = tf.random.uniform((batch_size,), minval=-1, maxval=1)\n",
    "        eq = 3*tf.math.sin(mt.pi*x)\n",
    "\n",
    "        with tf.GradientTape() as tape:\n",
    "            y_pred = self(x, training=True)\n",
    "            loss = keras.losses.mean_squared_error(y_pred,eq)\n",
    "\n",
    "        grads = tape.gradient(loss, self.trainable_weights)\n",
    "        self.optimizer.apply_gradients(zip(grads, self.trainable_weights))\n",
    "        loss_tracker.update_state(loss)\n",
    "\n",
    "        return {\"loss\": loss_tracker.result()}"
   ]
  },
  {
   "cell_type": "code",
   "execution_count": 3,
   "metadata": {},
   "outputs": [],
   "source": [
    "class SinTransform(tf.keras.layers.Layer):\n",
    "    def __init__(self, num_outputs):\n",
    "        super(SinTransform,self).__init__()\n",
    "        self.num_outputs = num_outputs\n",
    "\n",
    "        self.freq = tf.range(1., self.num_outputs + 1) # Aquí se definen las frecuencias para la función seno\n",
    "        # Se crea un tensor que va desde 1 hasta el último valor numérico necesario para acompletar el \n",
    "        # número de salidas que se tiene en la función. \n",
    "        self.kernel = self.add_weight(\"kernel\",\n",
    "                                shape=[self.num_outputs])\n",
    "        # En esta parte se crearon los valores para los coefficientes que serán entrenables y calculables \n",
    "        # para la función que se desea modelar. En este caso, corresponde cada uno de estos valores a los \n",
    "        # valores de los pesos. \n",
    "\n",
    "    def call(self, inputs):\n",
    "        # Esta primer parte es para evitar problemas con la forma de las entradas y corregir si es necesario\n",
    "        inputs = tf.convert_to_tensor(inputs)\n",
    "        if (inputs.shape == ()):\n",
    "            inputs=(inputs,)\n",
    "        elif (len(inputs.shape)==1):\n",
    "            inputs=tf.expand_dims(inputs, axis=1)\n",
    "            \n",
    "        # La función calcula una serie (sum_i=1^N a_i*sin(w_i*x))\n",
    "        batch = tf.shape(inputs)[0]\n",
    "        self.freq_b = tf.ones([batch,1])*self.freq # Crea un tensor cuyos elementos son 1's y multiplica cada uno\n",
    "        # por los valores de las frecuencias.\n",
    "        args = self.freq_b * inputs # Aquí se valcula el valor de las frecuencias (w_i*x)\n",
    "        modes = tf.math.sin(args) # Se calcula los valores de sin(w_i*x)\n",
    "        return tf.tensordot(modes,self.kernel,1)  # Se crea la serie de senos"
   ]
  },
  {
   "cell_type": "code",
   "execution_count": 4,
   "metadata": {},
   "outputs": [
    {
     "name": "stdout",
     "output_type": "stream",
     "text": [
      "KerasTensor(type_spec=TensorSpec(shape=(None, 1), dtype=tf.float32, name='input_1'), name='input_1', description=\"created by layer 'input_1'\")\n",
      "Model: \"function\"\n",
      "_________________________________________________________________\n",
      " Layer (type)                Output Shape              Param #   \n",
      "=================================================================\n",
      " input_1 (InputLayer)        [(None, 1)]               0         \n",
      "                                                                 \n",
      " sin_transform (SinTransform  (None,)                  5         \n",
      " )                                                               \n",
      "                                                                 \n",
      "=================================================================\n",
      "Total params: 5\n",
      "Trainable params: 5\n",
      "Non-trainable params: 0\n",
      "_________________________________________________________________\n"
     ]
    }
   ],
   "source": [
    "inputs = keras.Input(shape=(1,))\n",
    "x = SinTransform(5)(inputs)\n",
    "\n",
    "model = Function(inputs=inputs,outputs=x)\n",
    "model.summary()"
   ]
  },
  {
   "cell_type": "code",
   "execution_count": 11,
   "metadata": {
    "scrolled": false
   },
   "outputs": [
    {
     "name": "stdout",
     "output_type": "stream",
     "text": [
      "Epoch 1/25\n",
      "4/4 [==============================] - 0s 884us/step - loss: 0.2162\n",
      "Epoch 2/25\n",
      "4/4 [==============================] - 0s 1ms/step - loss: 0.2150\n",
      "Epoch 3/25\n",
      "4/4 [==============================] - 0s 1ms/step - loss: 0.2137\n",
      "Epoch 4/25\n",
      "4/4 [==============================] - 0s 956us/step - loss: 0.2124\n",
      "Epoch 5/25\n",
      "4/4 [==============================] - 0s 873us/step - loss: 0.2113\n",
      "Epoch 6/25\n",
      "4/4 [==============================] - 0s 929us/step - loss: 0.2101\n",
      "Epoch 7/25\n",
      "4/4 [==============================] - 0s 1ms/step - loss: 0.2089\n",
      "Epoch 8/25\n",
      "4/4 [==============================] - 0s 921us/step - loss: 0.2077\n",
      "Epoch 9/25\n",
      "4/4 [==============================] - 0s 914us/step - loss: 0.2065\n",
      "Epoch 10/25\n",
      "4/4 [==============================] - 0s 884us/step - loss: 0.2054\n",
      "Epoch 11/25\n",
      "4/4 [==============================] - 0s 960us/step - loss: 0.2043\n",
      "Epoch 12/25\n",
      "4/4 [==============================] - 0s 914us/step - loss: 0.2032\n",
      "Epoch 13/25\n",
      "4/4 [==============================] - 0s 874us/step - loss: 0.2021\n",
      "Epoch 14/25\n",
      "4/4 [==============================] - 0s 894us/step - loss: 0.2010\n",
      "Epoch 15/25\n",
      "4/4 [==============================] - 0s 982us/step - loss: 0.2000\n",
      "Epoch 16/25\n",
      "4/4 [==============================] - 0s 830us/step - loss: 0.1989\n",
      "Epoch 17/25\n",
      "4/4 [==============================] - 0s 842us/step - loss: 0.1979\n",
      "Epoch 18/25\n",
      "4/4 [==============================] - 0s 1ms/step - loss: 0.1968\n",
      "Epoch 19/25\n",
      "4/4 [==============================] - 0s 994us/step - loss: 0.1959\n",
      "Epoch 20/25\n",
      "4/4 [==============================] - 0s 902us/step - loss: 0.1949\n",
      "Epoch 21/25\n",
      "4/4 [==============================] - 0s 956us/step - loss: 0.1939\n",
      "Epoch 22/25\n",
      "4/4 [==============================] - 0s 1ms/step - loss: 0.1929\n",
      "Epoch 23/25\n",
      "4/4 [==============================] - 0s 858us/step - loss: 0.1919\n",
      "Epoch 24/25\n",
      "4/4 [==============================] - 0s 810us/step - loss: 0.1909\n",
      "Epoch 25/25\n",
      "4/4 [==============================] - 0s 881us/step - loss: 0.1899\n"
     ]
    }
   ],
   "source": [
    "model.compile(optimizer=Adam(learning_rate=0.001), metrics=['loss'])\n",
    "\n",
    "x=tf.linspace(-1,1,100)\n",
    "history = model.fit(x,epochs=25,verbose=1)"
   ]
  },
  {
   "cell_type": "code",
   "execution_count": 13,
   "metadata": {},
   "outputs": [
    {
     "name": "stdout",
     "output_type": "stream",
     "text": [
      "4/4 [==============================] - 0s 871us/step\n"
     ]
    },
    {
     "data": {
      "image/png": "[encoded data removed]",
      "text/plain": [
       "<Figure size 640x480 with 1 Axes>"
      ]
     },
     "metadata": {},
     "output_type": "display_data"
    }
   ],
   "source": [
    "x_testv = tf.linspace(-1,1,100)\n",
    "a=model.predict(x_testv)\n",
    "\n",
    "plt.plot(x_testv,a, label = \"Predicción\")\n",
    "plt.plot(x_testv, 3*tf.math.sin(mt.pi*x), label = \"Función\", color = \"orange\")\n",
    "plt.legend()\n",
    "plt.show()"
   ]
  },
  {
   "cell_type": "code",
   "execution_count": null,
   "metadata": {},
   "outputs": [],
   "source": []
  }
 ],
 "metadata": {
  "kernelspec": {
   "display_name": "Python 3",
   "language": "python",
   "name": "python3"
  },
  "language_info": {
   "codemirror_mode": {
    "name": "ipython",
    "version": 3
   },
   "file_extension": ".py",
   "mimetype": "text/x-python",
   "name": "python",
   "nbconvert_exporter": "python",
   "pygments_lexer": "ipython3",
   "version": "3.8.10"
  }
 },
 "nbformat": 4,
 "nbformat_minor": 2
}
